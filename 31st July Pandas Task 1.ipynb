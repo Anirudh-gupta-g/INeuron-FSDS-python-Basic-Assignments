{
 "cells": [
  {
   "cell_type": "markdown",
   "metadata": {},
   "source": [
    "## Fitbit Task"
   ]
  },
  {
   "cell_type": "markdown",
   "metadata": {},
   "source": [
    "## 1. Read this dataset in pandas , mysql \n",
    "Im using Postgresql as my sql database"
   ]
  },
  {
   "cell_type": "code",
   "execution_count": 1,
   "metadata": {},
   "outputs": [],
   "source": [
    "import pandas as pd"
   ]
  },
  {
   "cell_type": "code",
   "execution_count": 2,
   "metadata": {},
   "outputs": [],
   "source": [
    "fb=pd.read_csv(r'FitBit data.csv',header = 0)"
   ]
  },
  {
   "cell_type": "code",
   "execution_count": 3,
   "metadata": {},
   "outputs": [
    {
     "name": "stdout",
     "output_type": "stream",
     "text": [
      "<class 'pandas.core.frame.DataFrame'>\n",
      "RangeIndex: 457 entries, 0 to 456\n",
      "Data columns (total 15 columns):\n",
      " #   Column                    Non-Null Count  Dtype  \n",
      "---  ------                    --------------  -----  \n",
      " 0   Id                        457 non-null    int64  \n",
      " 1   ActivityDate              457 non-null    object \n",
      " 2   TotalSteps                457 non-null    int64  \n",
      " 3   TotalDistance             457 non-null    float64\n",
      " 4   TrackerDistance           457 non-null    float64\n",
      " 5   LoggedActivitiesDistance  457 non-null    float64\n",
      " 6   VeryActiveDistance        457 non-null    float64\n",
      " 7   ModeratelyActiveDistance  457 non-null    float64\n",
      " 8   LightActiveDistance       457 non-null    float64\n",
      " 9   SedentaryActiveDistance   457 non-null    float64\n",
      " 10  VeryActiveMinutes         457 non-null    int64  \n",
      " 11  FairlyActiveMinutes       457 non-null    int64  \n",
      " 12  LightlyActiveMinutes      457 non-null    int64  \n",
      " 13  SedentaryMinutes          457 non-null    int64  \n",
      " 14  Calories                  457 non-null    int64  \n",
      "dtypes: float64(7), int64(7), object(1)\n",
      "memory usage: 53.7+ KB\n"
     ]
    }
   ],
   "source": [
    "fb.info()"
   ]
  },
  {
   "cell_type": "markdown",
   "metadata": {},
   "source": [
    "## 3.convert all the dates available in dataset to timestamp format in pandas and in sql you to convert it in date format"
   ]
  },
  {
   "cell_type": "code",
   "execution_count": 4,
   "metadata": {},
   "outputs": [],
   "source": [
    "fb['ActivityDate'] = pd.to_datetime(fb['ActivityDate'])"
   ]
  },
  {
   "cell_type": "markdown",
   "metadata": {},
   "source": [
    "## 4. Find out in this data that how many unique id's we have \n"
   ]
  },
  {
   "cell_type": "code",
   "execution_count": 5,
   "metadata": {},
   "outputs": [
    {
     "data": {
      "text/plain": [
       "35"
      ]
     },
     "execution_count": 5,
     "metadata": {},
     "output_type": "execute_result"
    }
   ],
   "source": [
    "len(fb['Id'].unique())"
   ]
  },
  {
   "cell_type": "markdown",
   "metadata": {},
   "source": [
    "## 5. which id is one of the active id that you have in whole dataset\n",
    "\n"
   ]
  },
  {
   "cell_type": "code",
   "execution_count": 28,
   "metadata": {},
   "outputs": [
    {
     "data": {
      "text/plain": [
       "Id\n",
       "8877689391    3451.166667\n",
       "Name: Calories, dtype: float64"
      ]
     },
     "execution_count": 28,
     "metadata": {},
     "output_type": "execute_result"
    }
   ],
   "source": [
    "fb.groupby('Id')['Calories'].mean().sort_values(ascending = False).head(1)"
   ]
  },
  {
   "cell_type": "markdown",
   "metadata": {},
   "source": [
    "## 6.How many of them have not logged there activity find out in terms of number of ids "
   ]
  },
  {
   "cell_type": "code",
   "execution_count": 21,
   "metadata": {
    "scrolled": true
   },
   "outputs": [
    {
     "data": {
      "text/plain": [
       "Id                          433\n",
       "ActivityDate                433\n",
       "TotalSteps                  433\n",
       "TotalDistance               433\n",
       "TrackerDistance             433\n",
       "LoggedActivitiesDistance    433\n",
       "VeryActiveDistance          433\n",
       "ModeratelyActiveDistance    433\n",
       "LightActiveDistance         433\n",
       "SedentaryActiveDistance     433\n",
       "VeryActiveMinutes           433\n",
       "FairlyActiveMinutes         433\n",
       "LightlyActiveMinutes        433\n",
       "SedentaryMinutes            433\n",
       "Calories                    433\n",
       "dtype: int64"
      ]
     },
     "execution_count": 21,
     "metadata": {},
     "output_type": "execute_result"
    }
   ],
   "source": [
    "len(fitbit_df['Id'].unique()) - len(fitbit_df[fitbit_df['LoggedActivitiesDistance'] != 0]['Id'].drop_duplicates())"
   ]
  },
  {
   "cell_type": "code",
   "execution_count": 24,
   "metadata": {},
   "outputs": [
    {
     "data": {
      "text/plain": [
       "29"
      ]
     },
     "execution_count": 24,
     "metadata": {},
     "output_type": "execute_result"
    }
   ],
   "source": [
    "len(fb['Id'].unique())-len(fb[fb['LoggedActivitiesDistance'] != 0] ['Id'].drop_duplicates())"
   ]
  },
  {
   "cell_type": "markdown",
   "metadata": {},
   "source": [
    "## 7.Find out who is the laziest person id that we have in dataset \n"
   ]
  },
  {
   "cell_type": "code",
   "execution_count": 27,
   "metadata": {},
   "outputs": [
    {
     "data": {
      "text/plain": [
       "Id\n",
       "1624580081    1352.894737\n",
       "Name: Calories, dtype: float64"
      ]
     },
     "execution_count": 27,
     "metadata": {},
     "output_type": "execute_result"
    }
   ],
   "source": [
    "fb.groupby('Id')['Calories'].mean().sort_values().head(1)"
   ]
  },
  {
   "cell_type": "markdown",
   "metadata": {},
   "source": [
    "## 8.Explore over an internet that how much calories burn is required for a healthy person and find out how many healthy person we have in our dataset \n"
   ]
  },
  {
   "cell_type": "code",
   "execution_count": 29,
   "metadata": {},
   "outputs": [
    {
     "data": {
      "text/plain": [
       "38     1644430081\n",
       "60     1927972279\n",
       "72     2022484408\n",
       "138    2891001357\n",
       "165    4020332650\n",
       "276    4702921684\n",
       "303    5577150313\n",
       "315    6117666160\n",
       "324    6290855005\n",
       "343    6775888955\n",
       "366    7007744171\n",
       "384    7086361926\n",
       "390    8053475328\n",
       "413    8378563200\n",
       "426    8583815059\n",
       "434    8792009665\n",
       "445    8877689391\n",
       "Name: Id, dtype: int64"
      ]
     },
     "execution_count": 29,
     "metadata": {},
     "output_type": "execute_result"
    }
   ],
   "source": [
    "#as per the research a healthy person burns an average of 2250 calories per day\n",
    "fb[fb['Calories'] >= 2500]['Id'].drop_duplicates()"
   ]
  },
  {
   "cell_type": "markdown",
   "metadata": {},
   "source": [
    "## 9. how many person are not a regular person with respect to activity try to find out those \n"
   ]
  },
  {
   "cell_type": "code",
   "execution_count": 30,
   "metadata": {},
   "outputs": [
    {
     "data": {
      "text/plain": [
       "Id\n",
       "6775888955    1153.500951\n",
       "Name: std, dtype: float64"
      ]
     },
     "execution_count": 30,
     "metadata": {},
     "output_type": "execute_result"
    }
   ],
   "source": [
    "fb.groupby('Id').describe()['Calories']['std'].sort_values(ascending=False).head(1)"
   ]
  },
  {
   "cell_type": "markdown",
   "metadata": {},
   "source": [
    "## 10.who is the thired most active person in this dataset"
   ]
  },
  {
   "cell_type": "code",
   "execution_count": 31,
   "metadata": {},
   "outputs": [
    {
     "data": {
      "text/plain": [
       "Id\n",
       "5577150313    3300.272727\n",
       "Name: Calories, dtype: float64"
      ]
     },
     "execution_count": 31,
     "metadata": {},
     "output_type": "execute_result"
    }
   ],
   "source": [
    "fb.groupby('Id')['Calories'].mean().sort_values(ascending = False).head(3).tail(1)"
   ]
  },
  {
   "cell_type": "markdown",
   "metadata": {},
   "source": [
    "## 11.who is the 5th most laziest person avilable in dataset find it out "
   ]
  },
  {
   "cell_type": "code",
   "execution_count": 32,
   "metadata": {},
   "outputs": [
    {
     "data": {
      "text/plain": [
       "Id\n",
       "2320127002    1532.083333\n",
       "Name: Calories, dtype: float64"
      ]
     },
     "execution_count": 32,
     "metadata": {},
     "output_type": "execute_result"
    }
   ],
   "source": [
    "fb.groupby('Id')['Calories'].mean().sort_values().head(5).tail(1)"
   ]
  },
  {
   "cell_type": "markdown",
   "metadata": {},
   "source": [
    "## 12. find out what is the total accumulative calories burn for a person "
   ]
  },
  {
   "cell_type": "code",
   "execution_count": 33,
   "metadata": {},
   "outputs": [
    {
     "data": {
      "text/plain": [
       "Id\n",
       "1503960366    34128\n",
       "1624580081    25705\n",
       "1644430081    29164\n",
       "1844505072    19391\n",
       "1927972279    27048\n",
       "2022484408    29704\n",
       "2026352035    16266\n",
       "2320127002    18385\n",
       "2347167796    30320\n",
       "2873212765    20349\n",
       "2891001357    18187\n",
       "3372868164    18603\n",
       "3977333714    16777\n",
       "4020332650    98412\n",
       "4057192912    60913\n",
       "4319703577    23931\n",
       "4388161847    14442\n",
       "4445114986    31617\n",
       "4558609924    21962\n",
       "4702921684    42322\n",
       "5553957443    21630\n",
       "5577150313    36303\n",
       "6117666160    20993\n",
       "6290855005    21656\n",
       "6391747486    15868\n",
       "6775888955    24523\n",
       "6962181067    29249\n",
       "7007744171    31525\n",
       "7086361926    26124\n",
       "8053475328    31825\n",
       "8253242879    17556\n",
       "8378563200    40274\n",
       "8583815059    19130\n",
       "8792009665    24884\n",
       "8877689391    41414\n",
       "Name: Calories, dtype: int64"
      ]
     },
     "execution_count": 33,
     "metadata": {},
     "output_type": "execute_result"
    }
   ],
   "source": [
    "fb.groupby('Id')['Calories'].sum()"
   ]
  }
 ],
 "metadata": {
  "kernelspec": {
   "display_name": "Python 3",
   "language": "python",
   "name": "python3"
  },
  "language_info": {
   "codemirror_mode": {
    "name": "ipython",
    "version": 3
   },
   "file_extension": ".py",
   "mimetype": "text/x-python",
   "name": "python",
   "nbconvert_exporter": "python",
   "pygments_lexer": "ipython3",
   "version": "3.8.3"
  }
 },
 "nbformat": 4,
 "nbformat_minor": 4
}
