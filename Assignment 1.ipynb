{
 "cells": [
  {
   "cell_type": "markdown",
   "id": "586986a4",
   "metadata": {},
   "source": [
    "Assignment - 1\n",
    "\n",
    "Q1)\n",
    "* is an expression\n",
    "'hello' is a value\n",
    "-87.8 is an expression\n",
    "- is an expression\n",
    "/ is an expression\n",
    "+is an expression\n",
    "6 is a value\n"
   ]
  },
  {
   "cell_type": "markdown",
   "id": "d62efeee",
   "metadata": {},
   "source": [
    "Q2)\n",
    " A variable is a indentifier to refer a value whereas a string is a value assigned in quotes."
   ]
  },
  {
   "cell_type": "markdown",
   "id": "02d02dc6",
   "metadata": {},
   "source": [
    "3. Describe three different data types.\n",
    "A.String: String is a sequence of characters that can be combination of letters,numbers or special characters enclosed \n",
    "in a single or double quotes. Strings are immutable\n",
    "B.List : List is a squenced data type that can contain strings, integers and other values as well. A list is mutable.\n",
    "C.Tuple: Tuple is same as List except that it is immutable.\n"
   ]
  },
  {
   "cell_type": "markdown",
   "id": "22aed474",
   "metadata": {},
   "source": [
    "4. What is an expression made up of? What do all expressions do?\\\n",
    "\n",
    "An Expression is made up of values, variable and operators. Expressions evaluate the values.\n"
   ]
  },
  {
   "cell_type": "markdown",
   "id": "9d5bda40",
   "metadata": {},
   "source": [
    "5.This assignment statements, like spam = 10. What is the difference between an expression and a statement?\n",
    "\n",
    "Answer: As answered in above question, expressions are combination of values, variables and operators and they evaluate the values and returns a result value where as statement is a command or instruction that a python intepreter can execute.\n"
   ]
  },
  {
   "cell_type": "markdown",
   "id": "7d7dfb9e",
   "metadata": {},
   "source": [
    "6.. After running the following code, what does the variable bacon contain?\n",
    "bacon = 22\n",
    "bacon + 1\n",
    "\n",
    "Answer: Variable bacon contains 22."
   ]
  },
  {
   "cell_type": "markdown",
   "id": "9ce96f6a",
   "metadata": {},
   "source": [
    "7.What should the values of the following two terms be?\n",
    "'spam' + 'spamspam'\n",
    "'spam' * 3\n",
    "\n",
    "Answer:  The values of above two terms are same. That is 'spamspamspam'"
   ]
  },
  {
   "cell_type": "markdown",
   "id": "68faa5a0",
   "metadata": {},
   "source": [
    "8.Why is eggs a valid variable name while 100 is invalid?\n",
    "\n",
    "Answer: In Python all the variable names must begin with letters. Therefore Eggs is valid variable name and 100 is not a valid variable name"
   ]
  },
  {
   "cell_type": "markdown",
   "id": "c479a6a7",
   "metadata": {},
   "source": [
    "9.What three functions can be used to get the integer, floating-point number, or string version of a value?\n",
    "\n",
    "Answer: int(),float(),str()"
   ]
  },
  {
   "cell_type": "markdown",
   "id": "980200e0",
   "metadata": {},
   "source": [
    "10.Why does this expression cause an error? How can you fix it?\n",
    "'I have eaten ' + 99 + ' burritos.'\n",
    "\n",
    "Answer: The above expression is a combination of strings and a integer and in python direct concatenation of a string and a integer is not possible\n",
    "    The solution for this is\n",
    "    'I have eaten' + str(99) + 'burritos'"
   ]
  },
  {
   "cell_type": "code",
   "execution_count": null,
   "id": "f6ef9a8d",
   "metadata": {},
   "outputs": [],
   "source": []
  }
 ],
 "metadata": {
  "kernelspec": {
   "display_name": "Python 3 (ipykernel)",
   "language": "python",
   "name": "python3"
  },
  "language_info": {
   "codemirror_mode": {
    "name": "ipython",
    "version": 3
   },
   "file_extension": ".py",
   "mimetype": "text/x-python",
   "name": "python",
   "nbconvert_exporter": "python",
   "pygments_lexer": "ipython3",
   "version": "3.9.7"
  }
 },
 "nbformat": 4,
 "nbformat_minor": 5
}
