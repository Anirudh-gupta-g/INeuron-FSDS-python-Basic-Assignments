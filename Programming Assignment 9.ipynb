{
 "cells": [
  {
   "cell_type": "markdown",
   "metadata": {},
   "source": [
    "1.\tWrite a Python program to check if the given number is a Disarium Number?"
   ]
  },
  {
   "cell_type": "code",
   "execution_count": 2,
   "metadata": {},
   "outputs": [
    {
     "name": "stdout",
     "output_type": "stream",
     "text": [
      "175 is a disarium number\n"
     ]
    }
   ],
   "source": [
    "def digitcount(a):\n",
    "    length = 0\n",
    "    while a!=0:\n",
    "        length = length+1\n",
    "        a = a//10\n",
    "    return length\n",
    "num = 175\n",
    "rem = sum = 0\n",
    "len = digitcount(num)\n",
    "n = num\n",
    "while(num > 0):  \n",
    "    rem = num%10 \n",
    "    sum = sum + int(rem**len)\n",
    "    num = num//10 \n",
    "    len = len - 1\n",
    "if(sum == n):  \n",
    "    print(str(n) + \" is a disarium number\")  \n",
    "else:  \n",
    "    print(str(n) + \" is not a disarium number\")  "
   ]
  },
  {
   "cell_type": "markdown",
   "metadata": {},
   "source": [
    "2.\tWrite a Python program to print all disarium numbers between 1 to 100?"
   ]
  },
  {
   "cell_type": "code",
   "execution_count": 5,
   "metadata": {},
   "outputs": [
    {
     "name": "stdout",
     "output_type": "stream",
     "text": [
      "Disarium numbers between 1 and 100 are\n",
      "1\n",
      "2\n",
      "3\n",
      "4\n",
      "5\n",
      "6\n",
      "7\n",
      "8\n",
      "9\n",
      "89\n"
     ]
    }
   ],
   "source": [
    " def calculateLength(n):    \n",
    "    length = 0;    \n",
    "    while(n != 0):    \n",
    "        length = length + 1;    \n",
    "        n = n//10;    \n",
    "    return length;    \n",
    "     \n",
    "def sumOfDigits(num):    \n",
    "    rem = sum = 0;    \n",
    "    len = calculateLength(num);    \n",
    "        \n",
    "    while(num > 0):    \n",
    "        rem = num%10;    \n",
    "        sum = sum + (rem**len);    \n",
    "        num = num//10;    \n",
    "        len = len - 1;    \n",
    "    return sum;    \n",
    "      \n",
    "result = 0;    \n",
    "     \n",
    "print(\"Disarium numbers between 1 and 100 are\");    \n",
    "for i in range(1, 101):    \n",
    "    result = sumOfDigits(i);    \n",
    "        \n",
    "    if(result == i):    \n",
    "        print(i)"
   ]
  },
  {
   "cell_type": "markdown",
   "metadata": {},
   "source": [
    "3.\tWrite a Python program to check if the given number is Happy Number?"
   ]
  },
  {
   "cell_type": "code",
   "execution_count": 6,
   "metadata": {},
   "outputs": [
    {
     "name": "stdout",
     "output_type": "stream",
     "text": [
      "Enter a number: 54\n",
      "54  is an Unhappy Number!!!\n"
     ]
    }
   ],
   "source": [
    "def isHappyNumber(n):    \n",
    "    digit = sum = 0    \n",
    "    while(n > 0):    \n",
    "        digit = n % 10 \n",
    "        sum = sum + (digit * digit)    \n",
    "        n = n // 10   \n",
    "    return sum    \n",
    "        \n",
    "num = int(input(\"Enter a number: \"))    \n",
    "result = num    \n",
    "     \n",
    "while(result != 1 and result != 4):    \n",
    "    result = isHappyNumber(result)   \n",
    "     \n",
    "if(result == 1):    \n",
    "    print(num, \" is a Happy Number!!!\")   \n",
    "else:    \n",
    "    print(num, \" is an Unhappy Number!!!\")"
   ]
  },
  {
   "cell_type": "markdown",
   "metadata": {},
   "source": [
    "4.\tWrite a Python program to print all happy numbers between 1 and 100?"
   ]
  },
  {
   "cell_type": "code",
   "execution_count": 1,
   "metadata": {},
   "outputs": [
    {
     "name": "stdout",
     "output_type": "stream",
     "text": [
      "ENTER LOWEST VALUE : 1\n",
      "ENTER HIGHEST VALUE : 100\n",
      "HAPPY NUMBERS WITHIN RANGE(1,100) ARE -\n",
      "1 7 10 13 19 23 28 31 32 44 49 68 70 79 82 86 91 94 97 100 "
     ]
    }
   ],
   "source": [
    "def check_happy(number):\n",
    "    remainder = 0\n",
    "    happy_num = 0;    \n",
    "    while(number > 0):    \n",
    "    remainder = number%10;    \n",
    "    happy_num = happy_num + (remainder*remainder);    \n",
    "    number = number//10;\n",
    "    return happy_num;\n",
    "\n",
    "lower = int(input(\"ENTER LOWEST VALUE : \"))\n",
    "upper = int(input(\"ENTER HIGHEST VALUE : \"))\n",
    "print(\"HAPPY NUMBERS WITHIN RANGE({},{}) ARE -\".format(lower,upper))\n",
    "for i in range(lower,upper+1):\n",
    "    happy_num = i\n",
    "    while(happy_num != 1 and happy_num != 4):\n",
    "    happy_num = check_happy(happy_num)\n",
    "    if(happy_num == 1):\n",
    "    print(i,end=\" \")"
   ]
  },
  {
   "cell_type": "markdown",
   "metadata": {},
   "source": [
    "5.\tWrite a Python program to determine whether the given number is a Harshad Number?\n"
   ]
  },
  {
   "cell_type": "code",
   "execution_count": 2,
   "metadata": {},
   "outputs": [
    {
     "name": "stdout",
     "output_type": "stream",
     "text": [
      "Enter a number: 56\n",
      "56 is not a Harshad Number!!!\n"
     ]
    }
   ],
   "source": [
    "num = int(input(\"Enter a number: \"))    \n",
    "digit = sum = 0\n",
    "temp = num   \n",
    "while(temp > 0):    \n",
    "    digit = temp % 10\n",
    "    sum = sum + digit    \n",
    "    temp = temp // 10    \n",
    "if num % sum == 0:    \n",
    "    print(num, \"is a Harshad Number!!!\")    \n",
    "else:    \n",
    "    print(num, \"is not a Harshad Number!!!\")"
   ]
  },
  {
   "cell_type": "markdown",
   "metadata": {},
   "source": [
    "6.\tWrite a Python program to print all pronic numbers between 1 and 100?"
   ]
  },
  {
   "cell_type": "code",
   "execution_count": 6,
   "metadata": {},
   "outputs": [
    {
     "name": "stdout",
     "output_type": "stream",
     "text": [
      "Pronic numbers between 1 and 100: \n",
      "2 6 12 20 30 42 56 72 90 "
     ]
    }
   ],
   "source": [
    "def isPronicNumber(num):    \n",
    "    flag = False\n",
    "        \n",
    "    for j in range(1, num+1):    \n",
    "        if((j*(j+1)) == num):    \n",
    "            flag = True   \n",
    "            break   \n",
    "    return flag   \n",
    "     \n",
    "print(\"Pronic numbers between 1 and 100: \")    \n",
    "for i in range(1, 101):    \n",
    "    if(isPronicNumber(i)):    \n",
    "        print(i, end = ' ')    "
   ]
  },
  {
   "cell_type": "code",
   "execution_count": null,
   "metadata": {},
   "outputs": [],
   "source": []
  }
 ],
 "metadata": {
  "kernelspec": {
   "display_name": "Python 3",
   "language": "python",
   "name": "python3"
  },
  "language_info": {
   "codemirror_mode": {
    "name": "ipython",
    "version": 3
   },
   "file_extension": ".py",
   "mimetype": "text/x-python",
   "name": "python",
   "nbconvert_exporter": "python",
   "pygments_lexer": "ipython3",
   "version": "3.8.3"
  }
 },
 "nbformat": 4,
 "nbformat_minor": 4
}
