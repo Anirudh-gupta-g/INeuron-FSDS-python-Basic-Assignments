{
 "cells": [
  {
   "cell_type": "markdown",
   "metadata": {},
   "source": [
    "## Task"
   ]
  },
  {
   "cell_type": "markdown",
   "metadata": {},
   "source": [
    "1 .Find out there avarage rating on weekly basis keep this in a mind that they take two days of leave\n",
    "\n",
    "2 .Total working days for each agents \n",
    "\n",
    "3. Total query that you have taken \n",
    "\n",
    "4. total Feedback that you have received \n",
    "\n",
    "5. a agent name who have average rating between 3.5 to 4 \n",
    "\n",
    "6 . Agent name who have rating lesss then 3.5 \n",
    "\n",
    "7 . agent name who have rating more then 4.5 \n",
    "\n",
    "8 . how many feedaback agents have received more then 4.5 average\n",
    "\n",
    "9 . average weekly response time for each agent \n",
    "\n",
    "10 . average weekely resolution time for each agents \n",
    "\n",
    "11 . list of all agents name \n",
    "\n",
    "12 . percentage of chat on which they have received a feedback \n",
    "\n",
    "13 . Total contributation hour for each and every agents weekly basis \n",
    "\n",
    "14. total percentage of active hour for a month "
   ]
  },
  {
   "cell_type": "markdown",
   "metadata": {},
   "source": [
    "## Data Preperation"
   ]
  },
  {
   "cell_type": "code",
   "execution_count": 1,
   "metadata": {},
   "outputs": [
    {
     "data": {
      "application/javascript": [
       "\n",
       "        if (window._pyforest_update_imports_cell) { window._pyforest_update_imports_cell('import pandas as pd'); }\n",
       "    "
      ],
      "text/plain": [
       "<IPython.core.display.Javascript object>"
      ]
     },
     "metadata": {},
     "output_type": "display_data"
    }
   ],
   "source": [
    "alr= pd.read_excel(r'Agent login Report.xls',skiprows = 2)"
   ]
  },
  {
   "cell_type": "code",
   "execution_count": 3,
   "metadata": {
    "scrolled": false
   },
   "outputs": [
    {
     "data": {
      "application/javascript": [
       "\n",
       "        if (window._pyforest_update_imports_cell) { window._pyforest_update_imports_cell('import pandas as pd'); }\n",
       "    "
      ],
      "text/plain": [
       "<IPython.core.display.Javascript object>"
      ]
     },
     "metadata": {},
     "output_type": "display_data"
    }
   ],
   "source": [
    "ap = pd.read_excel(r'Agent Performance.xlsx',header = 1)"
   ]
  },
  {
   "cell_type": "code",
   "execution_count": 5,
   "metadata": {},
   "outputs": [
    {
     "name": "stdout",
     "output_type": "stream",
     "text": [
      "<class 'pandas.core.frame.DataFrame'>\n",
      "RangeIndex: 1000 entries, 0 to 999\n",
      "Data columns (total 6 columns):\n",
      " #   Column       Non-Null Count  Dtype \n",
      "---  ------       --------------  ----- \n",
      " 0   SL No        1000 non-null   int64 \n",
      " 1   Agent        1000 non-null   object\n",
      " 2   Date         1000 non-null   object\n",
      " 3   Login Time   1000 non-null   object\n",
      " 4   Logout Time  1000 non-null   object\n",
      " 5   Duration     1000 non-null   object\n",
      "dtypes: int64(1), object(5)\n",
      "memory usage: 47.0+ KB\n"
     ]
    }
   ],
   "source": [
    "alr.info()"
   ]
  },
  {
   "cell_type": "code",
   "execution_count": 6,
   "metadata": {},
   "outputs": [
    {
     "data": {
      "application/javascript": [
       "\n",
       "        if (window._pyforest_update_imports_cell) { window._pyforest_update_imports_cell('import pandas as pd'); }\n",
       "    "
      ],
      "text/plain": [
       "<IPython.core.display.Javascript object>"
      ]
     },
     "metadata": {},
     "output_type": "display_data"
    }
   ],
   "source": [
    "alr['Date'] = pd.to_datetime(alr['Date'])"
   ]
  },
  {
   "cell_type": "code",
   "execution_count": 8,
   "metadata": {},
   "outputs": [
    {
     "name": "stdout",
     "output_type": "stream",
     "text": [
      "<class 'pandas.core.frame.DataFrame'>\n",
      "RangeIndex: 2160 entries, 0 to 2159\n",
      "Data columns (total 8 columns):\n",
      " #   Column                   Non-Null Count  Dtype  \n",
      "---  ------                   --------------  -----  \n",
      " 0   SL No                    2160 non-null   int64  \n",
      " 1   Date                     2160 non-null   object \n",
      " 2   Agent Name               2160 non-null   object \n",
      " 3   Total Chats              2160 non-null   int64  \n",
      " 4   Average Response Time    2160 non-null   object \n",
      " 5   Average Resolution Time  2160 non-null   object \n",
      " 6   Average Rating           2160 non-null   float64\n",
      " 7   Total Feedback           2160 non-null   int64  \n",
      "dtypes: float64(1), int64(3), object(4)\n",
      "memory usage: 135.1+ KB\n"
     ]
    }
   ],
   "source": [
    "ap.info()"
   ]
  },
  {
   "cell_type": "code",
   "execution_count": 9,
   "metadata": {},
   "outputs": [
    {
     "data": {
      "application/javascript": [
       "\n",
       "        if (window._pyforest_update_imports_cell) { window._pyforest_update_imports_cell('import pandas as pd'); }\n",
       "    "
      ],
      "text/plain": [
       "<IPython.core.display.Javascript object>"
      ]
     },
     "metadata": {},
     "output_type": "display_data"
    }
   ],
   "source": [
    "ap['Date'] = pd.to_datetime(ap['Date'])"
   ]
  },
  {
   "cell_type": "code",
   "execution_count": 17,
   "metadata": {},
   "outputs": [],
   "source": [
    "ap['week']=ap['Date'].dt.weekofyear"
   ]
  },
  {
   "cell_type": "markdown",
   "metadata": {},
   "source": [
    "## 1.Find out there avarage rating on weekly basis keep this in a mind that they take two days of leave"
   ]
  },
  {
   "cell_type": "code",
   "execution_count": 20,
   "metadata": {},
   "outputs": [
    {
     "data": {
      "text/plain": [
       "Agent Name  week\n",
       "Abhishek    26      0.000000\n",
       "            27      0.000000\n",
       "            28      0.000000\n",
       "            29      0.000000\n",
       "            30      0.000000\n",
       "                      ...   \n",
       "Zeeshan     26      0.000000\n",
       "            27      1.307143\n",
       "            28      2.948571\n",
       "            29      3.180000\n",
       "            30      2.760000\n",
       "Name: Average Rating, Length: 350, dtype: float64"
      ]
     },
     "execution_count": 20,
     "metadata": {},
     "output_type": "execute_result"
    }
   ],
   "source": [
    "ap.groupby(['Agent Name','week'])['Average Rating'].mean()"
   ]
  },
  {
   "cell_type": "markdown",
   "metadata": {},
   "source": [
    "## 2.Total working days for each agents"
   ]
  },
  {
   "cell_type": "code",
   "execution_count": 25,
   "metadata": {},
   "outputs": [
    {
     "data": {
      "text/plain": [
       "Agent Name\n",
       "Abhishek         30\n",
       "Aditya           30\n",
       "Aditya Shinde    30\n",
       "Aditya_iot       30\n",
       "Amersh           30\n",
       "                 ..\n",
       "Uday Mishra      30\n",
       "Vasanth P        30\n",
       "Vivek            30\n",
       "Wasim            30\n",
       "Zeeshan          30\n",
       "Name: Date, Length: 70, dtype: int64"
      ]
     },
     "execution_count": 25,
     "metadata": {},
     "output_type": "execute_result"
    }
   ],
   "source": [
    "ap.groupby('Agent Name')['Date'].count()"
   ]
  },
  {
   "cell_type": "markdown",
   "metadata": {},
   "source": [
    "## 3. Total query that you have taken"
   ]
  },
  {
   "cell_type": "code",
   "execution_count": 26,
   "metadata": {},
   "outputs": [
    {
     "data": {
      "text/plain": [
       "Agent Name\n",
       "Abhishek           0\n",
       "Aditya             0\n",
       "Aditya Shinde    277\n",
       "Aditya_iot       231\n",
       "Amersh             0\n",
       "                ... \n",
       "Uday Mishra        0\n",
       "Vasanth P          0\n",
       "Vivek             44\n",
       "Wasim            433\n",
       "Zeeshan          542\n",
       "Name: Total Chats, Length: 70, dtype: int64"
      ]
     },
     "execution_count": 26,
     "metadata": {},
     "output_type": "execute_result"
    }
   ],
   "source": [
    "ap.groupby('Agent Name')['Total Chats'].sum()"
   ]
  },
  {
   "cell_type": "markdown",
   "metadata": {},
   "source": [
    "## 4. Total Feedback that they have received "
   ]
  },
  {
   "cell_type": "code",
   "execution_count": 28,
   "metadata": {},
   "outputs": [
    {
     "data": {
      "text/plain": [
       "Agent Name\n",
       "Abhishek           0\n",
       "Aditya             0\n",
       "Aditya Shinde    153\n",
       "Aditya_iot       131\n",
       "Amersh             0\n",
       "                ... \n",
       "Uday Mishra        0\n",
       "Vasanth P          0\n",
       "Vivek             20\n",
       "Wasim            284\n",
       "Zeeshan          335\n",
       "Name: Total Feedback, Length: 70, dtype: int64"
      ]
     },
     "execution_count": 28,
     "metadata": {},
     "output_type": "execute_result"
    }
   ],
   "source": [
    "ap.groupby('Agent Name')['Total Feedback'].sum()"
   ]
  },
  {
   "cell_type": "markdown",
   "metadata": {},
   "source": [
    "## 5. A agent name who have average rating between 3.5 to 4 "
   ]
  },
  {
   "cell_type": "code",
   "execution_count": 31,
   "metadata": {},
   "outputs": [
    {
     "data": {
      "text/plain": [
       "array(['Swati ', 'Manjunatha A', 'Prateek _iot ', 'Nandani Gupta',\n",
       "       'Jaydeep Dixit', 'Mahesh Sarade', 'Zeeshan ', 'Hrisikesh Neogi',\n",
       "       'Khushboo Priya', 'Wasim ', 'Jawala Prakash', 'Nishtha Jain',\n",
       "       'Prerna Singh', 'Boktiar Ahmed Bappy', 'Muskan Garg',\n",
       "       'Harikrishnan Shaji', 'Deepranjan Gupta', 'Shivan K',\n",
       "       'Madhulika G', 'Rishav Dash', 'Maitry ', 'Mithun S', 'Aditya_iot ',\n",
       "       'Ishawant Kumar', 'Ayushi Mishra', 'Shivananda Sonwane',\n",
       "       'Sandipan Saha', 'Anirudh ', 'Jayant Kumar', 'Saurabh Shukla',\n",
       "       'Aditya Shinde'], dtype=object)"
      ]
     },
     "execution_count": 31,
     "metadata": {},
     "output_type": "execute_result"
    }
   ],
   "source": [
    "ap[(ap['Average Rating'] > 3.5) & (ap['Average Rating'] < 4)]['Agent Name'].unique()"
   ]
  },
  {
   "cell_type": "markdown",
   "metadata": {},
   "source": [
    "## 6.Agent name who have rating less than 3.5"
   ]
  },
  {
   "cell_type": "code",
   "execution_count": 33,
   "metadata": {},
   "outputs": [
    {
     "data": {
      "text/plain": [
       "array(['Nandani Gupta', 'Hitesh Choudhary', 'Sanjeevan ', 'Anirudh ',\n",
       "       'Shiva Srivastava', 'Dibyanshu ', 'Ashish ', 'Uday Mishra',\n",
       "       'Aditya Shinde', 'Jayant Kumar', 'Aditya_iot ',\n",
       "       'Prabir Kumar Satapathy', 'Saurabh Shukla', 'Wasim ', 'Samprit ',\n",
       "       'Maitry ', 'Abhishek ', 'Rishav Dash', 'Aravind ', 'Tarun ',\n",
       "       'Muskan Garg', 'Ankit Sharma', 'Bharath ', 'Ashad Nasim',\n",
       "       'Vasanth P', 'Aditya ', 'Amersh ', 'Sandipan Saha',\n",
       "       'Ineuron Intelligence ', 'Mahak ', 'Mukesh Rao ', 'Zeeshan ',\n",
       "       'Anurag Tiwari', 'Ankitjha ', 'Saif Khan', 'Jaydeep Dixit',\n",
       "       'Sudhanshu Kumar', 'Maneesh ', 'Hyder Abbas', 'Rohan ', 'Vivek ',\n",
       "       'Nitin M', 'Shivan_S ', 'Spuri ', 'Ayushi Mishra',\n",
       "       'Chaitra K Hiremath', 'Prateek _iot ', 'Jawala Prakash',\n",
       "       'Sowmiya Sivakumar', 'Nishtha Jain', 'Swati ', 'Khushboo Priya',\n",
       "       'Shubham Sharma', 'Manjunatha A', 'Ameya Jain',\n",
       "       'Harikrishnan Shaji', 'Saikumarreddy N', 'Sanjeev Kumar',\n",
       "       'Mukesh ', 'Hrisikesh Neogi', 'Mithun S', 'Prerna Singh',\n",
       "       'Suraj S Bilgi', 'Shivan K', 'Mahesh Sarade', 'Madhulika G',\n",
       "       'Boktiar Ahmed Bappy', 'Deepranjan Gupta', 'Ishawant Kumar',\n",
       "       'Shivananda Sonwane'], dtype=object)"
      ]
     },
     "execution_count": 33,
     "metadata": {},
     "output_type": "execute_result"
    }
   ],
   "source": [
    "ap[ap['Average Rating'] < 3.5]['Agent Name'].unique()"
   ]
  },
  {
   "cell_type": "markdown",
   "metadata": {},
   "source": [
    "## 7. Agent name who have rating more then 4.5 "
   ]
  },
  {
   "cell_type": "code",
   "execution_count": 34,
   "metadata": {},
   "outputs": [
    {
     "data": {
      "text/plain": [
       "array(['Prerna Singh', 'Ameya Jain', 'Mahesh Sarade', 'Swati ', 'Mukesh ',\n",
       "       'Saikumarreddy N', 'Sanjeev Kumar', 'Shubham Sharma',\n",
       "       'Nishtha Jain', 'Manjunatha A', 'Khushboo Priya', 'Suraj S Bilgi',\n",
       "       'Harikrishnan Shaji', 'Hrisikesh Neogi', 'Shivan K',\n",
       "       'Sowmiya Sivakumar', 'Madhulika G', 'Mithun S',\n",
       "       'Boktiar Ahmed Bappy', 'Shivananda Sonwane', 'Ishawant Kumar',\n",
       "       'Deepranjan Gupta', 'Shiva Srivastava', 'Muskan Garg',\n",
       "       'Prateek _iot ', 'Aditya_iot ', 'Nandani Gupta', 'Jaydeep Dixit',\n",
       "       'Zeeshan ', 'Chaitra K Hiremath', 'Rishav Dash', 'Wasim ',\n",
       "       'Prabir Kumar Satapathy', 'Bharath ', 'Jawala Prakash',\n",
       "       'Ayushi Mishra', 'Maitry ', 'Aravind ', 'Sudhanshu Kumar',\n",
       "       'Aditya Shinde', 'Sandipan Saha', 'Anirudh ', 'Jayant Kumar',\n",
       "       'Saurabh Shukla', 'Maneesh ', 'Mukesh Rao ', 'Shivan_S ', 'Vivek ',\n",
       "       'Ashad Nasim', 'Ankitjha '], dtype=object)"
      ]
     },
     "execution_count": 34,
     "metadata": {},
     "output_type": "execute_result"
    }
   ],
   "source": [
    "ap[ap['Average Rating'] > 3.5]['Agent Name'].unique()"
   ]
  },
  {
   "cell_type": "markdown",
   "metadata": {},
   "source": [
    "## 8. How many feedback agents have received more then 4.5 average"
   ]
  },
  {
   "cell_type": "code",
   "execution_count": 46,
   "metadata": {},
   "outputs": [
    {
     "data": {
      "text/html": [
       "<div>\n",
       "<style scoped>\n",
       "    .dataframe tbody tr th:only-of-type {\n",
       "        vertical-align: middle;\n",
       "    }\n",
       "\n",
       "    .dataframe tbody tr th {\n",
       "        vertical-align: top;\n",
       "    }\n",
       "\n",
       "    .dataframe thead th {\n",
       "        text-align: right;\n",
       "    }\n",
       "</style>\n",
       "<table border=\"1\" class=\"dataframe\">\n",
       "  <thead>\n",
       "    <tr style=\"text-align: right;\">\n",
       "      <th></th>\n",
       "      <th>SL No</th>\n",
       "      <th>Date</th>\n",
       "      <th>Total Chats</th>\n",
       "      <th>Average Response Time</th>\n",
       "      <th>Average Resolution Time</th>\n",
       "      <th>Average Rating</th>\n",
       "      <th>Total Feedback</th>\n",
       "      <th>week</th>\n",
       "    </tr>\n",
       "    <tr>\n",
       "      <th>Agent Name</th>\n",
       "      <th></th>\n",
       "      <th></th>\n",
       "      <th></th>\n",
       "      <th></th>\n",
       "      <th></th>\n",
       "      <th></th>\n",
       "      <th></th>\n",
       "      <th></th>\n",
       "    </tr>\n",
       "  </thead>\n",
       "  <tbody>\n",
       "    <tr>\n",
       "      <th>Aditya Shinde</th>\n",
       "      <td>7</td>\n",
       "      <td>7</td>\n",
       "      <td>7</td>\n",
       "      <td>7</td>\n",
       "      <td>7</td>\n",
       "      <td>7</td>\n",
       "      <td>7</td>\n",
       "      <td>7</td>\n",
       "    </tr>\n",
       "    <tr>\n",
       "      <th>Aditya_iot</th>\n",
       "      <td>6</td>\n",
       "      <td>6</td>\n",
       "      <td>6</td>\n",
       "      <td>6</td>\n",
       "      <td>6</td>\n",
       "      <td>6</td>\n",
       "      <td>6</td>\n",
       "      <td>6</td>\n",
       "    </tr>\n",
       "    <tr>\n",
       "      <th>Ameya Jain</th>\n",
       "      <td>8</td>\n",
       "      <td>8</td>\n",
       "      <td>8</td>\n",
       "      <td>8</td>\n",
       "      <td>8</td>\n",
       "      <td>8</td>\n",
       "      <td>8</td>\n",
       "      <td>8</td>\n",
       "    </tr>\n",
       "    <tr>\n",
       "      <th>Anirudh</th>\n",
       "      <td>1</td>\n",
       "      <td>1</td>\n",
       "      <td>1</td>\n",
       "      <td>1</td>\n",
       "      <td>1</td>\n",
       "      <td>1</td>\n",
       "      <td>1</td>\n",
       "      <td>1</td>\n",
       "    </tr>\n",
       "    <tr>\n",
       "      <th>Ankitjha</th>\n",
       "      <td>1</td>\n",
       "      <td>1</td>\n",
       "      <td>1</td>\n",
       "      <td>1</td>\n",
       "      <td>1</td>\n",
       "      <td>1</td>\n",
       "      <td>1</td>\n",
       "      <td>1</td>\n",
       "    </tr>\n",
       "    <tr>\n",
       "      <th>Aravind</th>\n",
       "      <td>11</td>\n",
       "      <td>11</td>\n",
       "      <td>11</td>\n",
       "      <td>11</td>\n",
       "      <td>11</td>\n",
       "      <td>11</td>\n",
       "      <td>11</td>\n",
       "      <td>11</td>\n",
       "    </tr>\n",
       "    <tr>\n",
       "      <th>Ayushi Mishra</th>\n",
       "      <td>8</td>\n",
       "      <td>8</td>\n",
       "      <td>8</td>\n",
       "      <td>8</td>\n",
       "      <td>8</td>\n",
       "      <td>8</td>\n",
       "      <td>8</td>\n",
       "      <td>8</td>\n",
       "    </tr>\n",
       "    <tr>\n",
       "      <th>Bharath</th>\n",
       "      <td>17</td>\n",
       "      <td>17</td>\n",
       "      <td>17</td>\n",
       "      <td>17</td>\n",
       "      <td>17</td>\n",
       "      <td>17</td>\n",
       "      <td>17</td>\n",
       "      <td>17</td>\n",
       "    </tr>\n",
       "    <tr>\n",
       "      <th>Boktiar Ahmed Bappy</th>\n",
       "      <td>8</td>\n",
       "      <td>8</td>\n",
       "      <td>8</td>\n",
       "      <td>8</td>\n",
       "      <td>8</td>\n",
       "      <td>8</td>\n",
       "      <td>8</td>\n",
       "      <td>8</td>\n",
       "    </tr>\n",
       "    <tr>\n",
       "      <th>Chaitra K Hiremath</th>\n",
       "      <td>2</td>\n",
       "      <td>2</td>\n",
       "      <td>2</td>\n",
       "      <td>2</td>\n",
       "      <td>2</td>\n",
       "      <td>2</td>\n",
       "      <td>2</td>\n",
       "      <td>2</td>\n",
       "    </tr>\n",
       "    <tr>\n",
       "      <th>Deepranjan Gupta</th>\n",
       "      <td>7</td>\n",
       "      <td>7</td>\n",
       "      <td>7</td>\n",
       "      <td>7</td>\n",
       "      <td>7</td>\n",
       "      <td>7</td>\n",
       "      <td>7</td>\n",
       "      <td>7</td>\n",
       "    </tr>\n",
       "    <tr>\n",
       "      <th>Harikrishnan Shaji</th>\n",
       "      <td>7</td>\n",
       "      <td>7</td>\n",
       "      <td>7</td>\n",
       "      <td>7</td>\n",
       "      <td>7</td>\n",
       "      <td>7</td>\n",
       "      <td>7</td>\n",
       "      <td>7</td>\n",
       "    </tr>\n",
       "    <tr>\n",
       "      <th>Hrisikesh Neogi</th>\n",
       "      <td>11</td>\n",
       "      <td>11</td>\n",
       "      <td>11</td>\n",
       "      <td>11</td>\n",
       "      <td>11</td>\n",
       "      <td>11</td>\n",
       "      <td>11</td>\n",
       "      <td>11</td>\n",
       "    </tr>\n",
       "    <tr>\n",
       "      <th>Ishawant Kumar</th>\n",
       "      <td>12</td>\n",
       "      <td>12</td>\n",
       "      <td>12</td>\n",
       "      <td>12</td>\n",
       "      <td>12</td>\n",
       "      <td>12</td>\n",
       "      <td>12</td>\n",
       "      <td>12</td>\n",
       "    </tr>\n",
       "    <tr>\n",
       "      <th>Jawala Prakash</th>\n",
       "      <td>5</td>\n",
       "      <td>5</td>\n",
       "      <td>5</td>\n",
       "      <td>5</td>\n",
       "      <td>5</td>\n",
       "      <td>5</td>\n",
       "      <td>5</td>\n",
       "      <td>5</td>\n",
       "    </tr>\n",
       "    <tr>\n",
       "      <th>Jayant Kumar</th>\n",
       "      <td>2</td>\n",
       "      <td>2</td>\n",
       "      <td>2</td>\n",
       "      <td>2</td>\n",
       "      <td>2</td>\n",
       "      <td>2</td>\n",
       "      <td>2</td>\n",
       "      <td>2</td>\n",
       "    </tr>\n",
       "    <tr>\n",
       "      <th>Jaydeep Dixit</th>\n",
       "      <td>13</td>\n",
       "      <td>13</td>\n",
       "      <td>13</td>\n",
       "      <td>13</td>\n",
       "      <td>13</td>\n",
       "      <td>13</td>\n",
       "      <td>13</td>\n",
       "      <td>13</td>\n",
       "    </tr>\n",
       "    <tr>\n",
       "      <th>Khushboo Priya</th>\n",
       "      <td>13</td>\n",
       "      <td>13</td>\n",
       "      <td>13</td>\n",
       "      <td>13</td>\n",
       "      <td>13</td>\n",
       "      <td>13</td>\n",
       "      <td>13</td>\n",
       "      <td>13</td>\n",
       "    </tr>\n",
       "    <tr>\n",
       "      <th>Madhulika G</th>\n",
       "      <td>8</td>\n",
       "      <td>8</td>\n",
       "      <td>8</td>\n",
       "      <td>8</td>\n",
       "      <td>8</td>\n",
       "      <td>8</td>\n",
       "      <td>8</td>\n",
       "      <td>8</td>\n",
       "    </tr>\n",
       "    <tr>\n",
       "      <th>Mahesh Sarade</th>\n",
       "      <td>4</td>\n",
       "      <td>4</td>\n",
       "      <td>4</td>\n",
       "      <td>4</td>\n",
       "      <td>4</td>\n",
       "      <td>4</td>\n",
       "      <td>4</td>\n",
       "      <td>4</td>\n",
       "    </tr>\n",
       "    <tr>\n",
       "      <th>Maitry</th>\n",
       "      <td>7</td>\n",
       "      <td>7</td>\n",
       "      <td>7</td>\n",
       "      <td>7</td>\n",
       "      <td>7</td>\n",
       "      <td>7</td>\n",
       "      <td>7</td>\n",
       "      <td>7</td>\n",
       "    </tr>\n",
       "    <tr>\n",
       "      <th>Manjunatha A</th>\n",
       "      <td>13</td>\n",
       "      <td>13</td>\n",
       "      <td>13</td>\n",
       "      <td>13</td>\n",
       "      <td>13</td>\n",
       "      <td>13</td>\n",
       "      <td>13</td>\n",
       "      <td>13</td>\n",
       "    </tr>\n",
       "    <tr>\n",
       "      <th>Mithun S</th>\n",
       "      <td>5</td>\n",
       "      <td>5</td>\n",
       "      <td>5</td>\n",
       "      <td>5</td>\n",
       "      <td>5</td>\n",
       "      <td>5</td>\n",
       "      <td>5</td>\n",
       "      <td>5</td>\n",
       "    </tr>\n",
       "    <tr>\n",
       "      <th>Mukesh</th>\n",
       "      <td>2</td>\n",
       "      <td>2</td>\n",
       "      <td>2</td>\n",
       "      <td>2</td>\n",
       "      <td>2</td>\n",
       "      <td>2</td>\n",
       "      <td>2</td>\n",
       "      <td>2</td>\n",
       "    </tr>\n",
       "    <tr>\n",
       "      <th>Mukesh Rao</th>\n",
       "      <td>1</td>\n",
       "      <td>1</td>\n",
       "      <td>1</td>\n",
       "      <td>1</td>\n",
       "      <td>1</td>\n",
       "      <td>1</td>\n",
       "      <td>1</td>\n",
       "      <td>1</td>\n",
       "    </tr>\n",
       "    <tr>\n",
       "      <th>Muskan Garg</th>\n",
       "      <td>2</td>\n",
       "      <td>2</td>\n",
       "      <td>2</td>\n",
       "      <td>2</td>\n",
       "      <td>2</td>\n",
       "      <td>2</td>\n",
       "      <td>2</td>\n",
       "      <td>2</td>\n",
       "    </tr>\n",
       "    <tr>\n",
       "      <th>Nandani Gupta</th>\n",
       "      <td>7</td>\n",
       "      <td>7</td>\n",
       "      <td>7</td>\n",
       "      <td>7</td>\n",
       "      <td>7</td>\n",
       "      <td>7</td>\n",
       "      <td>7</td>\n",
       "      <td>7</td>\n",
       "    </tr>\n",
       "    <tr>\n",
       "      <th>Nishtha Jain</th>\n",
       "      <td>6</td>\n",
       "      <td>6</td>\n",
       "      <td>6</td>\n",
       "      <td>6</td>\n",
       "      <td>6</td>\n",
       "      <td>6</td>\n",
       "      <td>6</td>\n",
       "      <td>6</td>\n",
       "    </tr>\n",
       "    <tr>\n",
       "      <th>Prabir Kumar Satapathy</th>\n",
       "      <td>6</td>\n",
       "      <td>6</td>\n",
       "      <td>6</td>\n",
       "      <td>6</td>\n",
       "      <td>6</td>\n",
       "      <td>6</td>\n",
       "      <td>6</td>\n",
       "      <td>6</td>\n",
       "    </tr>\n",
       "    <tr>\n",
       "      <th>Prateek _iot</th>\n",
       "      <td>9</td>\n",
       "      <td>9</td>\n",
       "      <td>9</td>\n",
       "      <td>9</td>\n",
       "      <td>9</td>\n",
       "      <td>9</td>\n",
       "      <td>9</td>\n",
       "      <td>9</td>\n",
       "    </tr>\n",
       "    <tr>\n",
       "      <th>Prerna Singh</th>\n",
       "      <td>9</td>\n",
       "      <td>9</td>\n",
       "      <td>9</td>\n",
       "      <td>9</td>\n",
       "      <td>9</td>\n",
       "      <td>9</td>\n",
       "      <td>9</td>\n",
       "      <td>9</td>\n",
       "    </tr>\n",
       "    <tr>\n",
       "      <th>Rishav Dash</th>\n",
       "      <td>3</td>\n",
       "      <td>3</td>\n",
       "      <td>3</td>\n",
       "      <td>3</td>\n",
       "      <td>3</td>\n",
       "      <td>3</td>\n",
       "      <td>3</td>\n",
       "      <td>3</td>\n",
       "    </tr>\n",
       "    <tr>\n",
       "      <th>Saikumarreddy N</th>\n",
       "      <td>8</td>\n",
       "      <td>8</td>\n",
       "      <td>8</td>\n",
       "      <td>8</td>\n",
       "      <td>8</td>\n",
       "      <td>8</td>\n",
       "      <td>8</td>\n",
       "      <td>8</td>\n",
       "    </tr>\n",
       "    <tr>\n",
       "      <th>Sandipan Saha</th>\n",
       "      <td>1</td>\n",
       "      <td>1</td>\n",
       "      <td>1</td>\n",
       "      <td>1</td>\n",
       "      <td>1</td>\n",
       "      <td>1</td>\n",
       "      <td>1</td>\n",
       "      <td>1</td>\n",
       "    </tr>\n",
       "    <tr>\n",
       "      <th>Sanjeev Kumar</th>\n",
       "      <td>11</td>\n",
       "      <td>11</td>\n",
       "      <td>11</td>\n",
       "      <td>11</td>\n",
       "      <td>11</td>\n",
       "      <td>11</td>\n",
       "      <td>11</td>\n",
       "      <td>11</td>\n",
       "    </tr>\n",
       "    <tr>\n",
       "      <th>Saurabh Shukla</th>\n",
       "      <td>2</td>\n",
       "      <td>2</td>\n",
       "      <td>2</td>\n",
       "      <td>2</td>\n",
       "      <td>2</td>\n",
       "      <td>2</td>\n",
       "      <td>2</td>\n",
       "      <td>2</td>\n",
       "    </tr>\n",
       "    <tr>\n",
       "      <th>Shiva Srivastava</th>\n",
       "      <td>1</td>\n",
       "      <td>1</td>\n",
       "      <td>1</td>\n",
       "      <td>1</td>\n",
       "      <td>1</td>\n",
       "      <td>1</td>\n",
       "      <td>1</td>\n",
       "      <td>1</td>\n",
       "    </tr>\n",
       "    <tr>\n",
       "      <th>Shivan K</th>\n",
       "      <td>9</td>\n",
       "      <td>9</td>\n",
       "      <td>9</td>\n",
       "      <td>9</td>\n",
       "      <td>9</td>\n",
       "      <td>9</td>\n",
       "      <td>9</td>\n",
       "      <td>9</td>\n",
       "    </tr>\n",
       "    <tr>\n",
       "      <th>Shivananda Sonwane</th>\n",
       "      <td>17</td>\n",
       "      <td>17</td>\n",
       "      <td>17</td>\n",
       "      <td>17</td>\n",
       "      <td>17</td>\n",
       "      <td>17</td>\n",
       "      <td>17</td>\n",
       "      <td>17</td>\n",
       "    </tr>\n",
       "    <tr>\n",
       "      <th>Shubham Sharma</th>\n",
       "      <td>12</td>\n",
       "      <td>12</td>\n",
       "      <td>12</td>\n",
       "      <td>12</td>\n",
       "      <td>12</td>\n",
       "      <td>12</td>\n",
       "      <td>12</td>\n",
       "      <td>12</td>\n",
       "    </tr>\n",
       "    <tr>\n",
       "      <th>Sowmiya Sivakumar</th>\n",
       "      <td>1</td>\n",
       "      <td>1</td>\n",
       "      <td>1</td>\n",
       "      <td>1</td>\n",
       "      <td>1</td>\n",
       "      <td>1</td>\n",
       "      <td>1</td>\n",
       "      <td>1</td>\n",
       "    </tr>\n",
       "    <tr>\n",
       "      <th>Sudhanshu Kumar</th>\n",
       "      <td>2</td>\n",
       "      <td>2</td>\n",
       "      <td>2</td>\n",
       "      <td>2</td>\n",
       "      <td>2</td>\n",
       "      <td>2</td>\n",
       "      <td>2</td>\n",
       "      <td>2</td>\n",
       "    </tr>\n",
       "    <tr>\n",
       "      <th>Suraj S Bilgi</th>\n",
       "      <td>1</td>\n",
       "      <td>1</td>\n",
       "      <td>1</td>\n",
       "      <td>1</td>\n",
       "      <td>1</td>\n",
       "      <td>1</td>\n",
       "      <td>1</td>\n",
       "      <td>1</td>\n",
       "    </tr>\n",
       "    <tr>\n",
       "      <th>Swati</th>\n",
       "      <td>7</td>\n",
       "      <td>7</td>\n",
       "      <td>7</td>\n",
       "      <td>7</td>\n",
       "      <td>7</td>\n",
       "      <td>7</td>\n",
       "      <td>7</td>\n",
       "      <td>7</td>\n",
       "    </tr>\n",
       "    <tr>\n",
       "      <th>Vivek</th>\n",
       "      <td>1</td>\n",
       "      <td>1</td>\n",
       "      <td>1</td>\n",
       "      <td>1</td>\n",
       "      <td>1</td>\n",
       "      <td>1</td>\n",
       "      <td>1</td>\n",
       "      <td>1</td>\n",
       "    </tr>\n",
       "    <tr>\n",
       "      <th>Wasim</th>\n",
       "      <td>10</td>\n",
       "      <td>10</td>\n",
       "      <td>10</td>\n",
       "      <td>10</td>\n",
       "      <td>10</td>\n",
       "      <td>10</td>\n",
       "      <td>10</td>\n",
       "      <td>10</td>\n",
       "    </tr>\n",
       "    <tr>\n",
       "      <th>Zeeshan</th>\n",
       "      <td>3</td>\n",
       "      <td>3</td>\n",
       "      <td>3</td>\n",
       "      <td>3</td>\n",
       "      <td>3</td>\n",
       "      <td>3</td>\n",
       "      <td>3</td>\n",
       "      <td>3</td>\n",
       "    </tr>\n",
       "  </tbody>\n",
       "</table>\n",
       "</div>"
      ],
      "text/plain": [
       "                        SL No  Date  Total Chats  Average Response Time  \\\n",
       "Agent Name                                                                \n",
       "Aditya Shinde               7     7            7                      7   \n",
       "Aditya_iot                  6     6            6                      6   \n",
       "Ameya Jain                  8     8            8                      8   \n",
       "Anirudh                     1     1            1                      1   \n",
       "Ankitjha                    1     1            1                      1   \n",
       "Aravind                    11    11           11                     11   \n",
       "Ayushi Mishra               8     8            8                      8   \n",
       "Bharath                    17    17           17                     17   \n",
       "Boktiar Ahmed Bappy         8     8            8                      8   \n",
       "Chaitra K Hiremath          2     2            2                      2   \n",
       "Deepranjan Gupta            7     7            7                      7   \n",
       "Harikrishnan Shaji          7     7            7                      7   \n",
       "Hrisikesh Neogi            11    11           11                     11   \n",
       "Ishawant Kumar             12    12           12                     12   \n",
       "Jawala Prakash              5     5            5                      5   \n",
       "Jayant Kumar                2     2            2                      2   \n",
       "Jaydeep Dixit              13    13           13                     13   \n",
       "Khushboo Priya             13    13           13                     13   \n",
       "Madhulika G                 8     8            8                      8   \n",
       "Mahesh Sarade               4     4            4                      4   \n",
       "Maitry                      7     7            7                      7   \n",
       "Manjunatha A               13    13           13                     13   \n",
       "Mithun S                    5     5            5                      5   \n",
       "Mukesh                      2     2            2                      2   \n",
       "Mukesh Rao                  1     1            1                      1   \n",
       "Muskan Garg                 2     2            2                      2   \n",
       "Nandani Gupta               7     7            7                      7   \n",
       "Nishtha Jain                6     6            6                      6   \n",
       "Prabir Kumar Satapathy      6     6            6                      6   \n",
       "Prateek _iot                9     9            9                      9   \n",
       "Prerna Singh                9     9            9                      9   \n",
       "Rishav Dash                 3     3            3                      3   \n",
       "Saikumarreddy N             8     8            8                      8   \n",
       "Sandipan Saha               1     1            1                      1   \n",
       "Sanjeev Kumar              11    11           11                     11   \n",
       "Saurabh Shukla              2     2            2                      2   \n",
       "Shiva Srivastava            1     1            1                      1   \n",
       "Shivan K                    9     9            9                      9   \n",
       "Shivananda Sonwane         17    17           17                     17   \n",
       "Shubham Sharma             12    12           12                     12   \n",
       "Sowmiya Sivakumar           1     1            1                      1   \n",
       "Sudhanshu Kumar             2     2            2                      2   \n",
       "Suraj S Bilgi               1     1            1                      1   \n",
       "Swati                       7     7            7                      7   \n",
       "Vivek                       1     1            1                      1   \n",
       "Wasim                      10    10           10                     10   \n",
       "Zeeshan                     3     3            3                      3   \n",
       "\n",
       "                        Average Resolution Time  Average Rating  \\\n",
       "Agent Name                                                        \n",
       "Aditya Shinde                                 7               7   \n",
       "Aditya_iot                                    6               6   \n",
       "Ameya Jain                                    8               8   \n",
       "Anirudh                                       1               1   \n",
       "Ankitjha                                      1               1   \n",
       "Aravind                                      11              11   \n",
       "Ayushi Mishra                                 8               8   \n",
       "Bharath                                      17              17   \n",
       "Boktiar Ahmed Bappy                           8               8   \n",
       "Chaitra K Hiremath                            2               2   \n",
       "Deepranjan Gupta                              7               7   \n",
       "Harikrishnan Shaji                            7               7   \n",
       "Hrisikesh Neogi                              11              11   \n",
       "Ishawant Kumar                               12              12   \n",
       "Jawala Prakash                                5               5   \n",
       "Jayant Kumar                                  2               2   \n",
       "Jaydeep Dixit                                13              13   \n",
       "Khushboo Priya                               13              13   \n",
       "Madhulika G                                   8               8   \n",
       "Mahesh Sarade                                 4               4   \n",
       "Maitry                                        7               7   \n",
       "Manjunatha A                                 13              13   \n",
       "Mithun S                                      5               5   \n",
       "Mukesh                                        2               2   \n",
       "Mukesh Rao                                    1               1   \n",
       "Muskan Garg                                   2               2   \n",
       "Nandani Gupta                                 7               7   \n",
       "Nishtha Jain                                  6               6   \n",
       "Prabir Kumar Satapathy                        6               6   \n",
       "Prateek _iot                                  9               9   \n",
       "Prerna Singh                                  9               9   \n",
       "Rishav Dash                                   3               3   \n",
       "Saikumarreddy N                               8               8   \n",
       "Sandipan Saha                                 1               1   \n",
       "Sanjeev Kumar                                11              11   \n",
       "Saurabh Shukla                                2               2   \n",
       "Shiva Srivastava                              1               1   \n",
       "Shivan K                                      9               9   \n",
       "Shivananda Sonwane                           17              17   \n",
       "Shubham Sharma                               12              12   \n",
       "Sowmiya Sivakumar                             1               1   \n",
       "Sudhanshu Kumar                               2               2   \n",
       "Suraj S Bilgi                                 1               1   \n",
       "Swati                                         7               7   \n",
       "Vivek                                         1               1   \n",
       "Wasim                                        10              10   \n",
       "Zeeshan                                       3               3   \n",
       "\n",
       "                        Total Feedback  week  \n",
       "Agent Name                                    \n",
       "Aditya Shinde                        7     7  \n",
       "Aditya_iot                           6     6  \n",
       "Ameya Jain                           8     8  \n",
       "Anirudh                              1     1  \n",
       "Ankitjha                             1     1  \n",
       "Aravind                             11    11  \n",
       "Ayushi Mishra                        8     8  \n",
       "Bharath                             17    17  \n",
       "Boktiar Ahmed Bappy                  8     8  \n",
       "Chaitra K Hiremath                   2     2  \n",
       "Deepranjan Gupta                     7     7  \n",
       "Harikrishnan Shaji                   7     7  \n",
       "Hrisikesh Neogi                     11    11  \n",
       "Ishawant Kumar                      12    12  \n",
       "Jawala Prakash                       5     5  \n",
       "Jayant Kumar                         2     2  \n",
       "Jaydeep Dixit                       13    13  \n",
       "Khushboo Priya                      13    13  \n",
       "Madhulika G                          8     8  \n",
       "Mahesh Sarade                        4     4  \n",
       "Maitry                               7     7  \n",
       "Manjunatha A                        13    13  \n",
       "Mithun S                             5     5  \n",
       "Mukesh                               2     2  \n",
       "Mukesh Rao                           1     1  \n",
       "Muskan Garg                          2     2  \n",
       "Nandani Gupta                        7     7  \n",
       "Nishtha Jain                         6     6  \n",
       "Prabir Kumar Satapathy               6     6  \n",
       "Prateek _iot                         9     9  \n",
       "Prerna Singh                         9     9  \n",
       "Rishav Dash                          3     3  \n",
       "Saikumarreddy N                      8     8  \n",
       "Sandipan Saha                        1     1  \n",
       "Sanjeev Kumar                       11    11  \n",
       "Saurabh Shukla                       2     2  \n",
       "Shiva Srivastava                     1     1  \n",
       "Shivan K                             9     9  \n",
       "Shivananda Sonwane                  17    17  \n",
       "Shubham Sharma                      12    12  \n",
       "Sowmiya Sivakumar                    1     1  \n",
       "Sudhanshu Kumar                      2     2  \n",
       "Suraj S Bilgi                        1     1  \n",
       "Swati                                7     7  \n",
       "Vivek                                1     1  \n",
       "Wasim                               10    10  \n",
       "Zeeshan                              3     3  "
      ]
     },
     "execution_count": 46,
     "metadata": {},
     "output_type": "execute_result"
    }
   ],
   "source": [
    "ap[ap['Average Rating'] > 4.5].groupby('Agent Name').count()"
   ]
  },
  {
   "cell_type": "markdown",
   "metadata": {},
   "source": [
    "## 9.   Average weekly response time for each agent "
   ]
  },
  {
   "cell_type": "code",
   "execution_count": 82,
   "metadata": {},
   "outputs": [
    {
     "data": {
      "text/plain": [
       "Agent Name  week\n",
       "Abhishek    26      1659916800000000000\n",
       "            27      1659916800000000000\n",
       "            28      1659916800000000000\n",
       "            29      1659916800000000000\n",
       "            30      1659916800000000000\n",
       "                           ...         \n",
       "Zeeshan     26      1659916800000000000\n",
       "            27      1659916823571428608\n",
       "            28      1659916923428571136\n",
       "            29      1659916862857142784\n",
       "            30      1659916863833333504\n",
       "Name: Average Response Time, Length: 350, dtype: int64"
      ]
     },
     "execution_count": 82,
     "metadata": {},
     "output_type": "execute_result"
    }
   ],
   "source": [
    "ap.groupby(['Agent Name','week'])['Average Response Time'].mean()"
   ]
  },
  {
   "cell_type": "markdown",
   "metadata": {},
   "source": [
    "## 10.Average weekly response time for each agent "
   ]
  },
  {
   "cell_type": "code",
   "execution_count": 81,
   "metadata": {},
   "outputs": [
    {
     "data": {
      "text/plain": [
       "Agent Name  week\n",
       "Abhishek    26      1659916800000000000\n",
       "            27      1659916800000000000\n",
       "            28      1659916800000000000\n",
       "            29      1659916800000000000\n",
       "            30      1659916800000000000\n",
       "                           ...         \n",
       "Zeeshan     26      1659916800000000000\n",
       "            27      1659916823571428608\n",
       "            28      1659916923428571136\n",
       "            29      1659916862857142784\n",
       "            30      1659916863833333504\n",
       "Name: Average Response Time, Length: 350, dtype: int64"
      ]
     },
     "execution_count": 81,
     "metadata": {},
     "output_type": "execute_result"
    }
   ],
   "source": [
    "ap.groupby(['Agent Name','week'])['Average Response Time'].mean()"
   ]
  },
  {
   "cell_type": "markdown",
   "metadata": {},
   "source": [
    "## 11.list of all agents name "
   ]
  },
  {
   "cell_type": "code",
   "execution_count": 69,
   "metadata": {},
   "outputs": [
    {
     "data": {
      "text/plain": [
       "array(['Prerna Singh', 'Nandani Gupta', 'Ameya Jain', 'Mahesh Sarade',\n",
       "       'Swati ', 'Mukesh ', 'Saikumarreddy N', 'Sanjeev Kumar',\n",
       "       'Shubham Sharma', 'Nishtha Jain', 'Manjunatha A', 'Khushboo Priya',\n",
       "       'Suraj S Bilgi', 'Harikrishnan Shaji', 'Hrisikesh Neogi',\n",
       "       'Shivan K', 'Sowmiya Sivakumar', 'Madhulika G', 'Mithun S',\n",
       "       'Hitesh Choudhary', 'Sanjeevan ', 'Anirudh ', 'Shiva Srivastava',\n",
       "       'Dibyanshu ', 'Ashish ', 'Uday Mishra', 'Aditya Shinde',\n",
       "       'Jayant Kumar', 'Aditya_iot ', 'Prabir Kumar Satapathy',\n",
       "       'Saurabh Shukla', 'Wasim ', 'Samprit ', 'Maitry ', 'Abhishek ',\n",
       "       'Rishav Dash', 'Aravind ', 'Tarun ', 'Muskan Garg', 'Ankit Sharma',\n",
       "       'Bharath ', 'Ashad Nasim', 'Vasanth P', 'Aditya ', 'Amersh ',\n",
       "       'Sandipan Saha', 'Ineuron Intelligence ', 'Mahak ', 'Mukesh Rao ',\n",
       "       'Zeeshan ', 'Anurag Tiwari', 'Ankitjha ', 'Saif Khan',\n",
       "       'Jaydeep Dixit', 'Sudhanshu Kumar', 'Maneesh ', 'Hyder Abbas',\n",
       "       'Rohan ', 'Vivek ', 'Nitin M', 'Shivan_S ', 'Spuri ',\n",
       "       'Ayushi Mishra', 'Chaitra K Hiremath', 'Prateek _iot ',\n",
       "       'Boktiar Ahmed Bappy', 'Shivananda Sonwane', 'Ishawant Kumar',\n",
       "       'Deepranjan Gupta', 'Jawala Prakash'], dtype=object)"
      ]
     },
     "execution_count": 69,
     "metadata": {},
     "output_type": "execute_result"
    }
   ],
   "source": [
    "ap['Agent Name'].unique()"
   ]
  },
  {
   "cell_type": "markdown",
   "metadata": {},
   "source": [
    "## 12. Percentage of chat on which they have received a feedback"
   ]
  },
  {
   "cell_type": "code",
   "execution_count": 71,
   "metadata": {},
   "outputs": [
    {
     "data": {
      "text/plain": [
       "Agent Name\n",
       "Abhishek               NaN\n",
       "Aditya                 NaN\n",
       "Aditya Shinde    58.067722\n",
       "Aditya_iot       60.188561\n",
       "Amersh                 NaN\n",
       "                   ...    \n",
       "Uday Mishra            NaN\n",
       "Vasanth P              NaN\n",
       "Vivek            47.666667\n",
       "Wasim            66.449262\n",
       "Zeeshan          65.002151\n",
       "Name: Feedback Percentage, Length: 70, dtype: float64"
      ]
     },
     "execution_count": 71,
     "metadata": {},
     "output_type": "execute_result"
    }
   ],
   "source": [
    "ap['Feedback Percentage'] = ap['Total Feedback']/ap['Total Chats'] * 100\n",
    "ap.groupby('Agent Name')['Feedback Percentage'].mean()"
   ]
  },
  {
   "cell_type": "markdown",
   "metadata": {},
   "source": [
    "## 13. Total contributation hour for each and every agents weekly basis"
   ]
  },
  {
   "cell_type": "code",
   "execution_count": 87,
   "metadata": {},
   "outputs": [],
   "source": [
    "alr['week']=alr['Date'].dt.weekofyear"
   ]
  },
  {
   "cell_type": "code",
   "execution_count": 89,
   "metadata": {},
   "outputs": [
    {
     "data": {
      "application/javascript": [
       "\n",
       "        if (window._pyforest_update_imports_cell) { window._pyforest_update_imports_cell('import pandas as pd'); }\n",
       "    "
      ],
      "text/plain": [
       "<IPython.core.display.Javascript object>"
      ]
     },
     "metadata": {},
     "output_type": "display_data"
    }
   ],
   "source": [
    "alr['New Duration'] = pd.to_timedelta(alr['Duration'])"
   ]
  },
  {
   "cell_type": "code",
   "execution_count": 90,
   "metadata": {},
   "outputs": [
    {
     "data": {
      "text/plain": [
       "Agent          week\n",
       "Aditya Shinde  30      0 days 00:02:10\n",
       "Aditya_iot     29      0 days 06:05:43\n",
       "               30      0 days 09:38:09\n",
       "Amersh         30      0 days 03:03:50\n",
       "Ameya Jain     29      1 days 00:04:59\n",
       "                            ...       \n",
       "Tarun          26     21 days 10:08:20\n",
       "Wasim          29      0 days 19:37:32\n",
       "               30      1 days 04:33:13\n",
       "Zeeshan        29      1 days 00:25:39\n",
       "               30      1 days 00:39:40\n",
       "Name: New Duration, Length: 89, dtype: timedelta64[ns]"
      ]
     },
     "execution_count": 90,
     "metadata": {},
     "output_type": "execute_result"
    }
   ],
   "source": [
    "alr.groupby(['Agent','week'])['New Duration'].sum()"
   ]
  }
 ],
 "metadata": {
  "kernelspec": {
   "display_name": "Python 3",
   "language": "python",
   "name": "python3"
  },
  "language_info": {
   "codemirror_mode": {
    "name": "ipython",
    "version": 3
   },
   "file_extension": ".py",
   "mimetype": "text/x-python",
   "name": "python",
   "nbconvert_exporter": "python",
   "pygments_lexer": "ipython3",
   "version": "3.8.3"
  }
 },
 "nbformat": 4,
 "nbformat_minor": 4
}
